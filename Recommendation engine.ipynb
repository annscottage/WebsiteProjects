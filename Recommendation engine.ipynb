{
 "cells": [
  {
   "cell_type": "markdown",
   "id": "486ce034",
   "metadata": {},
   "source": [
    "# Developing two recommendation engines based on product pairs and customer purchases\n",
    "\n",
    "For this project I shall carry out data analysis of a dataset from an Online Store and use that data to create two recommendation engines relating to the products sold by this Online Store.  These two engines will relate to:\n",
    "1. Identifying other products commonly sold with a particular item\n",
    "2. Identifying other products that a customer has frequently purchased in the past\n",
    "\n",
    "The main part of the project is carried out using Tableau Public.  This Python notebook contains the programming required to transform the initial dataset into the reference tables required to support the development of the two recommendation engines."
   ]
  },
  {
   "cell_type": "code",
   "execution_count": 1,
   "id": "9d4c3233",
   "metadata": {},
   "outputs": [],
   "source": [
    "# set up the working environment\n",
    "import pandas as pd\n",
    "from pandas_profiling import ProfileReport\n",
    "import numpy as np\n",
    "import os\n",
    "from itertools import permutations, combinations\n",
    "from collections import Counter\n",
    "import datetime as dt\n",
    "import names"
   ]
  },
  {
   "cell_type": "markdown",
   "id": "134e867b",
   "metadata": {},
   "source": [
    "## Dataset\n",
    "The dataset I am using for this project is the Online_Retail dataset available from https://www.kaggle.com/datasets/lakshmi25npathi/online-retail-dataset which has information about approximatly 500k orders recieved by an online store between December 2010 and December 2011."
   ]
  },
  {
   "cell_type": "code",
   "execution_count": 2,
   "id": "5a6f6afb",
   "metadata": {},
   "outputs": [],
   "source": [
    "# load the dataset\n",
    "dataset = pd.read_csv('Online_Retail.csv')"
   ]
  },
  {
   "cell_type": "markdown",
   "id": "98a67e73",
   "metadata": {},
   "source": [
    "## Cleaning the dataset\n",
    "\n",
    "Because I am focussed here on the products purchased by customers, I will:\n",
    "- drop any orders where there is no description for a product\n",
    "- drop any product with a price that is higher than 1000, as these are admin items e.g postage etc\n",
    "- drop any products that do not have a UnitPrice"
   ]
  },
  {
   "cell_type": "code",
   "execution_count": 3,
   "id": "1895518e",
   "metadata": {},
   "outputs": [],
   "source": [
    "# clean the dataset\n",
    "\n",
    "# drop any orders where there is no description for a product\n",
    "dataset = dataset.dropna(axis=0, subset=['Description'])\n",
    "# drop products where the price is higher than 1000 - these are admin items e.g postage etc\n",
    "dataset = dataset[dataset['UnitPrice']<1000]\n",
    "# drop items that do not have a UnitPrice\n",
    "dataset = dataset[dataset['UnitPrice']>0.1]\n",
    "# drop any orders where there is no CustomerID\n",
    "dataset = dataset[dataset['CustomerID'].isnull() == False]\n",
    "# remove the orders relating to 'DOTCOM POSTAGE'\n",
    "dataset = dataset[dataset['Description']!='DOTCOM POSTAGE']\n",
    "# drop any orders where the InvoiceID starts with a 'C'. these were cancelled orders\n",
    "dataset = dataset[~dataset['InvoiceNo'].str.contains(\"C\")]"
   ]
  },
  {
   "cell_type": "code",
   "execution_count": 4,
   "id": "da58e9e6",
   "metadata": {},
   "outputs": [
    {
     "name": "stdout",
     "output_type": "stream",
     "text": [
      "<class 'pandas.core.frame.DataFrame'>\n",
      "Int64Index: 354031 entries, 0 to 495477\n",
      "Data columns (total 8 columns):\n",
      " #   Column       Non-Null Count   Dtype  \n",
      "---  ------       --------------   -----  \n",
      " 0   InvoiceNo    354031 non-null  object \n",
      " 1   StockCode    354031 non-null  object \n",
      " 2   Description  354031 non-null  object \n",
      " 3   Quantity     354031 non-null  int64  \n",
      " 4   InvoiceDate  354031 non-null  object \n",
      " 5   UnitPrice    354031 non-null  float64\n",
      " 6   CustomerID   354031 non-null  float64\n",
      " 7   Country      354031 non-null  object \n",
      "dtypes: float64(2), int64(1), object(5)\n",
      "memory usage: 24.3+ MB\n"
     ]
    }
   ],
   "source": [
    "dataset.info()"
   ]
  },
  {
   "cell_type": "markdown",
   "id": "05a2d133",
   "metadata": {},
   "source": [
    "## Look at a summary of the dataset"
   ]
  },
  {
   "cell_type": "code",
   "execution_count": null,
   "id": "c61f808a",
   "metadata": {},
   "outputs": [
    {
     "data": {
      "application/vnd.jupyter.widget-view+json": {
       "model_id": "4dd8146b7a0149fa801f17a61055fcfe",
       "version_major": 2,
       "version_minor": 0
      },
      "text/plain": [
       "Summarize dataset:   0%|          | 0/5 [00:00<?, ?it/s]"
      ]
     },
     "metadata": {},
     "output_type": "display_data"
    }
   ],
   "source": [
    "profile = ProfileReport(dataset)\n",
    "profile"
   ]
  },
  {
   "cell_type": "markdown",
   "id": "036fa859",
   "metadata": {},
   "source": [
    "## Working on the orders information"
   ]
  },
  {
   "cell_type": "code",
   "execution_count": null,
   "id": "e18984a7",
   "metadata": {},
   "outputs": [],
   "source": [
    "# Add a total cost for each product to the orders table\n",
    "dataset['Product_cost'] = dataset['Quantity']*dataset['UnitPrice']\n",
    "dataset"
   ]
  },
  {
   "cell_type": "code",
   "execution_count": null,
   "id": "4207281e",
   "metadata": {},
   "outputs": [],
   "source": [
    "order_totals = dataset.groupby('InvoiceNo')['Product_cost'].sum()\n",
    "order_totals=order_totals.reset_index()\n",
    "order_totals.columns = ['InvoiceNo', 'Total_cost']\n",
    "order_totals.head()"
   ]
  },
  {
   "cell_type": "markdown",
   "id": "66cb0571",
   "metadata": {},
   "source": [
    "## Including customer's names\n",
    "\n",
    "CustomerID's are so impersonnel, so let's use a random name generator to put names against the numbers!"
   ]
  },
  {
   "cell_type": "code",
   "execution_count": null,
   "id": "3ae444f0",
   "metadata": {},
   "outputs": [],
   "source": [
    "dataset.head()"
   ]
  },
  {
   "cell_type": "code",
   "execution_count": null,
   "id": "4542bdf5",
   "metadata": {},
   "outputs": [],
   "source": [
    "# Create the new column that will contain the names\n",
    "dataset['CustomerName'] = ''"
   ]
  },
  {
   "cell_type": "code",
   "execution_count": null,
   "id": "aae124c8",
   "metadata": {},
   "outputs": [],
   "source": [
    "# Create a list of the unique CustomerID's in the dataset\n",
    "customer_names = dataset.groupby(['CustomerID']).size()\n",
    "customer_names=customer_names.reset_index()\n",
    "customer_names.columns = ['CustomerID', 'CustomerName']\n",
    "customer_names"
   ]
  },
  {
   "cell_type": "code",
   "execution_count": null,
   "id": "10d6f3c1",
   "metadata": {},
   "outputs": [],
   "source": [
    "# Create a function that generates a random name for each of the CustomerID's and puts it in the CustomerName column\n",
    "def generate(x):\n",
    "    x = names.get_full_name()\n",
    "    return x\n",
    "\n",
    "# Run the function on the customer_names dataframe\n",
    "customer_names['CustomerName'] = customer_names['CustomerName'].apply(generate)"
   ]
  },
  {
   "cell_type": "code",
   "execution_count": null,
   "id": "e3a8ac49",
   "metadata": {},
   "outputs": [],
   "source": [
    "# Check it has worked\n",
    "customer_names"
   ]
  },
  {
   "cell_type": "code",
   "execution_count": null,
   "id": "28675be7",
   "metadata": {},
   "outputs": [],
   "source": [
    "# Update the CustomerName column in the original dataset table with the relevant names from the customer_names table\n",
    "dataset['CustomerName'] = (dataset['CustomerID'].map(customer_names.set_index('CustomerID')['CustomerName']).fillna('Unknown')                       )"
   ]
  },
  {
   "cell_type": "code",
   "execution_count": null,
   "id": "7e6439aa",
   "metadata": {},
   "outputs": [],
   "source": [
    "# check it has worked\n",
    "dataset"
   ]
  },
  {
   "cell_type": "markdown",
   "id": "fc907b68",
   "metadata": {},
   "source": [
    "## Saving the updated Online_Retail file and the new order_totals file"
   ]
  },
  {
   "cell_type": "code",
   "execution_count": null,
   "id": "ce39279e",
   "metadata": {},
   "outputs": [],
   "source": [
    "# save the cleansed and transformed Online-Retail dataset and the order_totals dataset as CSV files\n",
    "dataset.to_csv(r'C:\\Users\\annsc\\OneDrive\\Documents\\3 - Data Science work\\3 - Product Popularity Recommendation Engine\\Online_Retail_cleansed.csv')\n",
    "order_totals.to_csv(r'C:\\Users\\annsc\\OneDrive\\Documents\\3 - Data Science work\\3 - Product Popularity Recommendation Engine\\order_totals.csv')"
   ]
  },
  {
   "cell_type": "code",
   "execution_count": null,
   "id": "a5137ba6",
   "metadata": {},
   "outputs": [],
   "source": []
  },
  {
   "cell_type": "markdown",
   "id": "8cbf9530",
   "metadata": {},
   "source": [
    "## Working on the products information\n",
    "\n",
    "#### Creating a function that finds all products that were purchased together. "
   ]
  },
  {
   "cell_type": "code",
   "execution_count": null,
   "id": "57c09c1e",
   "metadata": {},
   "outputs": [],
   "source": [
    "# create a function that finds all items that were purchased together, listing them in two columns (Item 'A' and Item 'B')\n",
    "def find_pairs(x):\n",
    "    pairs = pd.DataFrame(list(permutations(x.values,2)), columns=['A', 'B'])\n",
    "    return pairs"
   ]
  },
  {
   "cell_type": "markdown",
   "id": "fabe2772",
   "metadata": {},
   "source": [
    "#### Run the function on the dataset"
   ]
  },
  {
   "cell_type": "code",
   "execution_count": null,
   "id": "97c24e37",
   "metadata": {},
   "outputs": [],
   "source": [
    "# Group the products by InvoiceNo then apply the function\n",
    "dataset_combo = dataset.groupby('InvoiceNo')['Description'].apply(find_pairs).reset_index(drop=True)\n",
    "dataset_combo.head(20)"
   ]
  },
  {
   "cell_type": "markdown",
   "id": "6c63adef",
   "metadata": {},
   "source": [
    "#### Calculate the frequency of each pairing of products"
   ]
  },
  {
   "cell_type": "code",
   "execution_count": null,
   "id": "02f1aa9c",
   "metadata": {},
   "outputs": [],
   "source": [
    "# Calculate the frequency of item_A being purchased with item_B\n",
    "dataset_combo2 = dataset_combo.groupby(['A', 'B']).size()\n",
    "dataset_combo2"
   ]
  },
  {
   "cell_type": "markdown",
   "id": "d1959d5b",
   "metadata": {},
   "source": [
    "#### Format the results from the pairing and frequency table into something to work with in Tableau"
   ]
  },
  {
   "cell_type": "code",
   "execution_count": null,
   "id": "d09b7f64",
   "metadata": {},
   "outputs": [],
   "source": [
    "# create a sorted dataframe by the most frequent combinations\n",
    "products_combo=dataset_combo2.reset_index()\n",
    "products_combo.columns = ['A', 'B', 'Frequency']\n",
    "products_combo.sort_values(by='Frequency', ascending=False, inplace=True)\n",
    "products_combo.head()"
   ]
  },
  {
   "cell_type": "markdown",
   "id": "72d73245",
   "metadata": {},
   "source": [
    "#### Export the final products table as a csv file"
   ]
  },
  {
   "cell_type": "code",
   "execution_count": null,
   "id": "e59c0aa1",
   "metadata": {},
   "outputs": [],
   "source": [
    "products_combo.to_csv(r'C:\\Users\\annsc\\OneDrive\\Documents\\3 - Data Science work\\3 - Product Popularity Recommendation Engine\\Product_pairs.csv')"
   ]
  },
  {
   "cell_type": "markdown",
   "id": "58e2e333",
   "metadata": {},
   "source": [
    "#### Create a table that maps products against their prices.\n",
    "Note that various prices appear across the dataset for a particular item and therefore I shall use the maximum price for each item here. "
   ]
  },
  {
   "cell_type": "code",
   "execution_count": null,
   "id": "1f521934",
   "metadata": {},
   "outputs": [],
   "source": [
    "# create a table of the product and its price\n",
    "product_prices = dataset.groupby('Description')['UnitPrice'].max()\n",
    "product_prices = pd.DataFrame(data=product_prices).rename(columns={\"UnitPrice\": \"Unit Price (excl tax)\"})\n",
    "product_prices"
   ]
  },
  {
   "cell_type": "markdown",
   "id": "5ee5cafe",
   "metadata": {},
   "source": [
    "#### Export the product prices table for use in Tableau"
   ]
  },
  {
   "cell_type": "code",
   "execution_count": null,
   "id": "ce69f13a",
   "metadata": {},
   "outputs": [],
   "source": [
    "product_prices.to_csv(r'C:\\Users\\annsc\\OneDrive\\Documents\\3 - Data Science work\\3 - Product Popularity Recommendation Engine\\Product_prices.csv')"
   ]
  },
  {
   "cell_type": "markdown",
   "id": "2170dd50",
   "metadata": {},
   "source": [
    "## Working on the customers information"
   ]
  },
  {
   "cell_type": "markdown",
   "id": "a4b92a7c",
   "metadata": {},
   "source": [
    "#### Find all of the different products that each customner has purchased, with the relevant frequency"
   ]
  },
  {
   "cell_type": "code",
   "execution_count": null,
   "id": "ea8a9496",
   "metadata": {},
   "outputs": [],
   "source": [
    "customer_purchases = dataset.groupby(['CustomerName', 'Description']).size()\n",
    "customer_purchases"
   ]
  },
  {
   "cell_type": "markdown",
   "id": "404aa966",
   "metadata": {},
   "source": [
    "#### Put this into a suitable format for Tableau to work with"
   ]
  },
  {
   "cell_type": "code",
   "execution_count": null,
   "id": "5c5b9c03",
   "metadata": {},
   "outputs": [],
   "source": [
    "# create a sorted dataframe by the most frequent products bought by customers\n",
    "customer_purchases=customer_purchases.reset_index()\n",
    "customer_purchases.columns = ['CustomerName', 'Products purchased', 'Frequency']\n",
    "customer_purchases.sort_values(by='Frequency', ascending=False, inplace=True)"
   ]
  },
  {
   "cell_type": "markdown",
   "id": "c24281e9",
   "metadata": {},
   "source": [
    "#### Looking at the results for a particular customer"
   ]
  },
  {
   "cell_type": "code",
   "execution_count": null,
   "id": "cbf6763a",
   "metadata": {},
   "outputs": [],
   "source": [
    "# Let's look at a particular customer's top 10 most frequently purchased products\n",
    "customer_purchases[customer_purchases['CustomerName']=='Angela Riles'].head(10)"
   ]
  },
  {
   "cell_type": "markdown",
   "id": "7fdbe3f0",
   "metadata": {},
   "source": [
    "#### Exporting the customer table for use in Tableau"
   ]
  },
  {
   "cell_type": "code",
   "execution_count": null,
   "id": "46b8d2e7",
   "metadata": {},
   "outputs": [],
   "source": [
    "customer_purchases.to_csv(r'C:\\Users\\annsc\\OneDrive\\Documents\\3 - Data Science work\\3 - Product Popularity Recommendation Engine\\Customer_purchases.csv')"
   ]
  }
 ],
 "metadata": {
  "kernelspec": {
   "display_name": "Python 3 (ipykernel)",
   "language": "python",
   "name": "python3"
  },
  "language_info": {
   "codemirror_mode": {
    "name": "ipython",
    "version": 3
   },
   "file_extension": ".py",
   "mimetype": "text/x-python",
   "name": "python",
   "nbconvert_exporter": "python",
   "pygments_lexer": "ipython3",
   "version": "3.7.13"
  }
 },
 "nbformat": 4,
 "nbformat_minor": 5
}
